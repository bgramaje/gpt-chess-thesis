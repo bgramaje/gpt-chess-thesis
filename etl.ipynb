{
 "cells": [
  {
   "cell_type": "code",
   "execution_count": 28,
   "metadata": {},
   "outputs": [
    {
     "name": "stdout",
     "output_type": "stream",
     "text": [
      "Defaulting to user installation because normal site-packages is not writeable\n",
      "Requirement already satisfied: pandas in /home/bgramaje/.local/lib/python3.10/site-packages (1.5.3)\n",
      "Requirement already satisfied: python-dateutil>=2.8.1 in /home/bgramaje/.local/lib/python3.10/site-packages (from pandas) (2.8.2)\n",
      "Requirement already satisfied: numpy>=1.21.0 in /home/bgramaje/.local/lib/python3.10/site-packages (from pandas) (1.23.5)\n",
      "Requirement already satisfied: pytz>=2020.1 in /home/bgramaje/.local/lib/python3.10/site-packages (from pandas) (2022.7.1)\n",
      "Requirement already satisfied: six>=1.5 in /usr/lib/python3/dist-packages (from python-dateutil>=2.8.1->pandas) (1.16.0)\n",
      "Note: you may need to restart the kernel to use updated packages.\n"
     ]
    }
   ],
   "source": [
    "%pip install pandas\n"
   ]
  },
  {
   "cell_type": "code",
   "execution_count": 29,
   "metadata": {},
   "outputs": [],
   "source": [
    "import pandas as pd\n"
   ]
  },
  {
   "cell_type": "code",
   "execution_count": 31,
   "metadata": {},
   "outputs": [],
   "source": [
    "COLS2READ = ['puzzleId', 'gpt-results']\n"
   ]
  },
  {
   "cell_type": "code",
   "execution_count": 32,
   "metadata": {},
   "outputs": [],
   "source": [
    "# gpt-3.5-turbo datasets\n",
    "GPT3_TEMP_0 = pd.read_csv(\n",
    "    'out/26_07-data-gpt-3.5-turbo-16k-0.csv', usecols=COLS2READ).head(50)\n",
    "GPT3_TEMP_1 = pd.read_csv(\n",
    "    'out/26_07-data-gpt-3.5-turbo-16k-1.csv', usecols=COLS2READ).head(50)\n",
    "\n",
    "# gpt-4 datasets\n",
    "GPT4_TEMP_1 = pd.read_csv(\n",
    "    'out/26_07-data-gpt-4-1.csv', usecols=COLS2READ).head(50)\n",
    "GPT4_TEMP_0 = pd.read_csv(\n",
    "    'out/27_07-data-gpt-4-0.csv', usecols=COLS2READ).head(50)\n"
   ]
  },
  {
   "cell_type": "code",
   "execution_count": 33,
   "metadata": {},
   "outputs": [],
   "source": [
    "def calculate_ratio(row):\n",
    "    values = row.split()  # Split the space-separated string into a list of values\n",
    "    true_count = values.count('True')\n",
    "    total_count = len(values)\n",
    "    return round(true_count / total_count, 2)\n",
    "\n",
    "\n",
    "def build_ratio_df(dfA: pd.DataFrame, dfB: pd.DataFrame, columns: list):\n",
    "    # merge gpt columns results of both dataframe to compare base on puzzleId\n",
    "    df = dfA.merge(dfB, on='puzzleId', how='left')\n",
    "    df = df.rename(\n",
    "        columns={'gpt-results_x': columns[0], 'gpt-results_y': columns[1]})\n",
    "\n",
    "    # create a dataframe where the rows of gpt-results are different\n",
    "    _df = df.loc[\n",
    "        df[columns[0]] != df[columns[1]],\n",
    "        ['puzzleId', columns[0], columns[1]]\n",
    "    ].reset_index(drop=True).dropna()\n",
    "\n",
    "    # calculate ratios\n",
    "    _df[f'{columns[0]}_RATIO'] = _df[columns[0]].apply(calculate_ratio)\n",
    "    _df[f'{columns[1]}_RATIO'] = _df[columns[1]].apply(calculate_ratio)\n",
    "\n",
    "    # delete non-necessary columns\n",
    "    _df = _df.drop(columns[0], axis=1)\n",
    "    _df = _df.drop(columns[1], axis=1)\n",
    "\n",
    "    # return builded df\n",
    "    return _df\n"
   ]
  },
  {
   "cell_type": "code",
   "execution_count": 34,
   "metadata": {},
   "outputs": [
    {
     "name": "stdout",
     "output_type": "stream",
     "text": [
      "   puzzleId  GPT3_TEMP_0_RATIO  GPT3_TEMP_1_RATIO\n",
      "0     004iZ                0.0               0.33\n",
      "1     008Nz                1.0               0.67\n",
      "2     008o6                1.0               0.33\n",
      "4     00FHX                1.0               0.33\n",
      "5     00GRa                0.0               0.33\n",
      "6     00H1C                0.0               0.33\n",
      "7     00HHN                0.0               0.33\n",
      "8     00IPp                0.0               0.33\n",
      "9     00JO7                1.0               0.67\n",
      "10    00P7n                1.0               0.67\n",
      "11    00SMl                1.0               0.67\n",
      "12    00SOy                1.0               0.00\n",
      "13    00Xfn                0.0               0.33\n",
      "14    00Xiu                0.0               0.33\n",
      "[gpt3_temp_0-performance] : 0.5\n",
      "[gpt3_temp_1-performance] : 0.4\n"
     ]
    }
   ],
   "source": [
    "# gpt3_temp-0 VS gpt3_temp-1\n",
    "columns = ['GPT3_TEMP_0', 'GPT3_TEMP_1']\n",
    "\n",
    "MERGED = build_ratio_df(dfA=GPT3_TEMP_0, dfB=GPT3_TEMP_1, columns=columns)\n",
    "\n",
    "print(MERGED)\n",
    "print(\n",
    "    f\"[gpt3_temp_0-performance] : {round(MERGED[f'{columns[0]}_RATIO'].mean(), 2)}\")\n",
    "print(\n",
    "    f\"[gpt3_temp_1-performance] : {round(MERGED[f'{columns[1]}_RATIO'].mean(), 2)}\")\n"
   ]
  },
  {
   "cell_type": "code",
   "execution_count": 35,
   "metadata": {},
   "outputs": [
    {
     "name": "stdout",
     "output_type": "stream",
     "text": [
      "   puzzleId  GPT4_TEMP_0_RATIO  GPT4_TEMP_1_RATIO\n",
      "0     001gi               0.33               0.00\n",
      "2     004iZ               1.00               0.67\n",
      "3     00DPQ               1.00               0.67\n",
      "4     00H9n               1.00               0.00\n",
      "5     00HoG               1.00               0.33\n",
      "6     00IaZ               0.00               0.67\n",
      "7     00JO7               0.00               0.67\n",
      "8     00OPk               0.00               0.33\n",
      "9     00Or5               1.00               0.67\n",
      "10    00Ozz               0.67               0.33\n",
      "11    00QZV               1.00               0.00\n",
      "12    00SMl               0.67               0.67\n",
      "13    00STy               1.00               0.33\n",
      "14    00SeK               0.00               0.33\n",
      "15    00SfT               0.00               0.33\n",
      "16    00X1l               0.33               0.00\n",
      "17    00X2S               0.33               0.00\n",
      "18    00Zh6               0.00               0.67\n",
      "[gpt4_temp_0-performance] : 0.52\n",
      "[gpt4_temp_1-performance] : 0.37\n"
     ]
    }
   ],
   "source": [
    "# gpt4_temp-0 VS gpt4_temp-1\n",
    "columns = ['GPT4_TEMP_0', 'GPT4_TEMP_1']\n",
    "\n",
    "MERGED = build_ratio_df(dfA=GPT4_TEMP_0, dfB=GPT4_TEMP_1, columns=columns)\n",
    "\n",
    "print(MERGED)\n",
    "print(\n",
    "    f\"[gpt4_temp_0-performance] : {round(MERGED[f'{columns[0]}_RATIO'].mean(), 2)}\")\n",
    "print(\n",
    "    f\"[gpt4_temp_1-performance] : {round(MERGED[f'{columns[1]}_RATIO'].mean(), 2)}\")\n"
   ]
  },
  {
   "cell_type": "code",
   "execution_count": 36,
   "metadata": {},
   "outputs": [
    {
     "name": "stdout",
     "output_type": "stream",
     "text": [
      "   puzzleId  GPT3_TEMP_1_RATIO  GPT4_TEMP_1_RATIO\n",
      "1     004iZ               0.33               0.67\n",
      "2     008Nz               0.67               1.00\n",
      "3     008o6               0.33               1.00\n",
      "4     00Bm8               0.00               1.00\n",
      "5     00DPQ               0.00               0.67\n",
      "6     00FHX               0.33               1.00\n",
      "7     00G0z               0.00               1.00\n",
      "8     00GRa               0.33               1.00\n",
      "9     00H1C               0.33               0.00\n",
      "10    00HHN               0.33               0.00\n",
      "11    00HoG               0.00               0.33\n",
      "12    00IPp               0.33               0.00\n",
      "13    00ITc               0.00               1.00\n",
      "14    00IaZ               0.00               0.67\n",
      "15    00JO7               0.67               0.67\n",
      "16    00KYE               0.00               1.00\n",
      "17    00OPk               0.00               0.33\n",
      "18    00Or5               0.00               0.67\n",
      "19    00Ozz               0.00               0.33\n",
      "20    00P7n               0.67               0.00\n",
      "21    00SMl               0.67               0.67\n",
      "22    00STy               0.00               0.33\n",
      "23    00SeK               0.00               0.33\n",
      "24    00SfT               0.00               0.33\n",
      "25    00Xfn               0.33               0.00\n",
      "26    00Xiu               0.33               0.00\n",
      "27    00Zh6               0.00               0.67\n",
      "[gpt3-performance] : 0.21\n",
      "[gpt4-performance] : 0.54\n"
     ]
    }
   ],
   "source": [
    "# gpt3_temp-1 VS gpt4_temp-1\n",
    "columns = ['GPT3_TEMP_1', 'GPT4_TEMP_1']\n",
    "\n",
    "MERGED = build_ratio_df(dfA=GPT3_TEMP_1, dfB=GPT4_TEMP_1, columns=columns)\n",
    "\n",
    "print(MERGED)\n",
    "print(\n",
    "    f\"[gpt3_temp_1-performance] : {round(MERGED[f'{columns[0]}_RATIO'].mean(), 2)}\")\n",
    "print(\n",
    "    f\"[gpt4_temp_1-performance] : {round(MERGED[f'{columns[1]}_RATIO'].mean(), 2)}\")\n"
   ]
  },
  {
   "cell_type": "code",
   "execution_count": 38,
   "metadata": {},
   "outputs": [
    {
     "name": "stdout",
     "output_type": "stream",
     "text": [
      "   puzzleId  GPT3_TEMP_0_RATIO  GPT4_TEMP_0_RATIO\n",
      "0     001gi                0.0               0.33\n",
      "1     002CP                0.0               1.00\n",
      "2     004iZ                0.0               1.00\n",
      "3     00B2k                0.0               1.00\n",
      "4     00Bm8                0.0               1.00\n",
      "5     00DPQ                0.0               1.00\n",
      "6     00G0z                0.0               1.00\n",
      "7     00GRa                0.0               1.00\n",
      "8     00H9n                0.0               1.00\n",
      "9     00HoG                0.0               1.00\n",
      "10    00ITc                0.0               1.00\n",
      "11    00JO7                1.0               0.00\n",
      "12    00KYE                0.0               1.00\n",
      "13    00Or5                0.0               1.00\n",
      "14    00Ozz                0.0               0.67\n",
      "15    00P7n                1.0               0.00\n",
      "16    00QZV                0.0               1.00\n",
      "17    00SMl                1.0               0.67\n",
      "18    00SOy                1.0               0.00\n",
      "19    00STy                0.0               1.00\n",
      "20    00X1l                0.0               0.33\n",
      "21    00X2S                0.0               0.33\n",
      "[gpt3-performance] : 0.18\n",
      "[gpt4-performance] : 0.74\n"
     ]
    }
   ],
   "source": [
    "# gpt3_temp-0 VS gpt4_temp-0\n",
    "columns = ['GPT3_TEMP_0', 'GPT4_TEMP_0']\n",
    "\n",
    "MERGED = build_ratio_df(dfA=GPT3_TEMP_0, dfB=GPT4_TEMP_0, columns=columns)\n",
    "\n",
    "print(MERGED)\n",
    "print(\n",
    "    f\"[gpt3_temp_0-performance] : {round(MERGED[f'{columns[0]}_RATIO'].mean(), 2)}\")\n",
    "print(\n",
    "    f\"[gpt4_temp_0-performance] : {round(MERGED[f'{columns[1]}_RATIO'].mean(), 2)}\")\n"
   ]
  }
 ],
 "metadata": {
  "kernelspec": {
   "display_name": "Python 3",
   "language": "python",
   "name": "python3"
  },
  "language_info": {
   "codemirror_mode": {
    "name": "ipython",
    "version": 3
   },
   "file_extension": ".py",
   "mimetype": "text/x-python",
   "name": "python",
   "nbconvert_exporter": "python",
   "pygments_lexer": "ipython3",
   "version": "3.10.6"
  },
  "orig_nbformat": 4
 },
 "nbformat": 4,
 "nbformat_minor": 2
}

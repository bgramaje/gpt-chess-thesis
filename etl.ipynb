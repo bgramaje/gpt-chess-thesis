{
 "cells": [
  {
   "cell_type": "code",
   "execution_count": 1,
   "metadata": {},
   "outputs": [
    {
     "name": "stdout",
     "output_type": "stream",
     "text": [
      "Defaulting to user installation because normal site-packages is not writeable\n",
      "Requirement already satisfied: pandas in /home/bgramaje/.local/lib/python3.10/site-packages (1.5.3)\n",
      "Requirement already satisfied: pytz>=2020.1 in /home/bgramaje/.local/lib/python3.10/site-packages (from pandas) (2022.7.1)\n",
      "Requirement already satisfied: python-dateutil>=2.8.1 in /home/bgramaje/.local/lib/python3.10/site-packages (from pandas) (2.8.2)\n",
      "Requirement already satisfied: numpy>=1.21.0 in /home/bgramaje/.local/lib/python3.10/site-packages (from pandas) (1.23.5)\n",
      "Requirement already satisfied: six>=1.5 in /usr/lib/python3/dist-packages (from python-dateutil>=2.8.1->pandas) (1.16.0)\n",
      "Note: you may need to restart the kernel to use updated packages.\n"
     ]
    }
   ],
   "source": [
    "%pip install pandas\n"
   ]
  },
  {
   "cell_type": "code",
   "execution_count": 2,
   "metadata": {},
   "outputs": [],
   "source": [
    "import pandas as pd\n"
   ]
  },
  {
   "cell_type": "code",
   "execution_count": 5,
   "metadata": {},
   "outputs": [],
   "source": [
    "COLS2READ = ['puzzleId', 'gpt-results']\n"
   ]
  },
  {
   "cell_type": "code",
   "execution_count": 12,
   "metadata": {},
   "outputs": [],
   "source": [
    "# gpt-3.5-turbo datasets\n",
    "GPT3_TEMP_0 = pd.read_csv(\n",
    "    'out/26_07-data-gpt-3.5-turbo-16k-0.csv', usecols=COLS2READ).head(50)\n",
    "GPT3_TEMP_1 = pd.read_csv(\n",
    "    'out/26_07-data-gpt-3.5-turbo-16k-1.csv', usecols=COLS2READ).head(50)\n",
    "\n",
    "# gpt-4 datasets\n",
    "GPT4_TEMP_1 = pd.read_csv(\n",
    "    'out/26_07-data-gpt-4-1_1.csv', usecols=COLS2READ).head(50)\n"
   ]
  },
  {
   "cell_type": "code",
   "execution_count": 17,
   "metadata": {},
   "outputs": [
    {
     "name": "stdout",
     "output_type": "stream",
     "text": [
      "   puzzleId        GPT3_TEMP_0        GPT3_TEMP_1\n",
      "0     001gi  False False False  False False False\n",
      "1     001wb  False False False  False False False\n",
      "2     002CP  False False False  False False False\n",
      "3     003IX  False False False  False False False\n",
      "4     004iZ  False False False   False False True\n",
      "5     004zI     True True True     True True True\n",
      "6     008Nz     True True True    True False True\n",
      "7     008o6     True True True   False False True\n",
      "8     009L0  False False False  False False False\n",
      "9     00B2k  False False False                NaN\n",
      "10    00Bm8  False False False  False False False\n",
      "11    00C7m  False False False  False False False\n",
      "12    00DPQ  False False False  False False False\n",
      "13    00FHX     True True True   False False True\n",
      "14    00G0z  False False False  False False False\n",
      "15    00GRa  False False False   False False True\n",
      "16    00H1C  False False False   False False True\n",
      "17    00H9n  False False False  False False False\n",
      "18    00HHN  False False False   True False False\n",
      "19    00HPz  False False False  False False False\n",
      "20    00HoG  False False False  False False False\n",
      "21    00Hxb  False False False  False False False\n",
      "22    00IPp  False False False   False True False\n",
      "23    00ITc  False False False  False False False\n",
      "24    00IaZ  False False False  False False False\n",
      "25    00J7i  False False False  False False False\n",
      "26    00JO7     True True True    False True True\n",
      "27    00KYE  False False False  False False False\n",
      "28    00MYL  False False False  False False False\n",
      "29    00OPk  False False False  False False False\n",
      "30    00OXc  False False False  False False False\n",
      "31    00Or5  False False False  False False False\n",
      "32    00Ozz  False False False  False False False\n",
      "33    00P7n     True True True    True False True\n",
      "34    00QY3  False False False  False False False\n",
      "35    00QZV  False False False  False False False\n",
      "36    00RoG  False False False  False False False\n",
      "37    00SMl     True True True    True False True\n",
      "38    00SOy     True True True  False False False\n",
      "39    00STy  False False False  False False False\n",
      "40    00SeK  False False False  False False False\n",
      "41    00SfT  False False False  False False False\n",
      "42    00T85  False False False  False False False\n",
      "43    00VIe  False False False  False False False\n",
      "44    00ViT  False False False  False False False\n",
      "45    00X1l  False False False  False False False\n",
      "46    00X2S  False False False  False False False\n",
      "47    00Xfn  False False False   False True False\n",
      "48    00Xiu  False False False   True False False\n",
      "49    00Zh6  False False False  False False False\n"
     ]
    }
   ],
   "source": [
    "MERGED_GPT3 = GPT3_TEMP_0.merge(GPT3_TEMP_1, on='puzzleId', how='left')\n",
    "MERGED_GPT3 = MERGED_GPT3.rename(\n",
    "    columns={'gpt-results_x': 'GPT3_TEMP_0', 'gpt-results_y': 'GPT3_TEMP_1'})\n",
    "\n",
    "MERGED_TEMP1 = GPT3_TEMP_1.merge(GPT4_TEMP_1, on='puzzleId', how='left')\n",
    "MERGED_TEMP1 = MERGED_TEMP1.rename(\n",
    "    columns={'gpt-results_x': 'GPT3_TEMP_1', 'gpt-results_y': 'GPT4_TEMP_1'})\n"
   ]
  },
  {
   "cell_type": "code",
   "execution_count": 18,
   "metadata": {},
   "outputs": [
    {
     "name": "stdout",
     "output_type": "stream",
     "text": [
      "   puzzleId        GPT3_TEMP_0        GPT3_TEMP_1\n",
      "4     004iZ  False False False   False False True\n",
      "6     008Nz     True True True    True False True\n",
      "7     008o6     True True True   False False True\n",
      "9     00B2k  False False False                NaN\n",
      "13    00FHX     True True True   False False True\n",
      "15    00GRa  False False False   False False True\n",
      "16    00H1C  False False False   False False True\n",
      "18    00HHN  False False False   True False False\n",
      "22    00IPp  False False False   False True False\n",
      "26    00JO7     True True True    False True True\n",
      "33    00P7n     True True True    True False True\n",
      "37    00SMl     True True True    True False True\n",
      "38    00SOy     True True True  False False False\n",
      "47    00Xfn  False False False   False True False\n",
      "48    00Xiu  False False False   True False False\n",
      "   puzzleId        GPT3_TEMP_1        GPT4_TEMP_1\n",
      "2     002CP  False False False                NaN\n",
      "4     004iZ   False False True    False True True\n",
      "6     008Nz    True False True     True True True\n",
      "7     008o6   False False True     True True True\n",
      "9     00Bm8  False False False     True True True\n",
      "11    00DPQ  False False False    True True False\n",
      "12    00FHX   False False True     True True True\n",
      "13    00G0z  False False False     True True True\n",
      "14    00GRa   False False True     True True True\n",
      "15    00H1C   False False True  False False False\n",
      "17    00HHN   True False False  False False False\n",
      "19    00HoG  False False False   False True False\n",
      "21    00IPp   False True False  False False False\n",
      "22    00ITc  False False False     True True True\n",
      "23    00IaZ  False False False    True False True\n",
      "25    00JO7    False True True    True True False\n",
      "26    00KYE  False False False     True True True\n",
      "28    00OPk  False False False   True False False\n",
      "30    00Or5  False False False    True False True\n",
      "31    00Ozz  False False False   True False False\n",
      "32    00P7n    True False True  False False False\n",
      "36    00SMl    True False True    True True False\n",
      "38    00STy  False False False   False False True\n",
      "39    00SeK  False False False   True False False\n",
      "40    00SfT  False False False   False True False\n",
      "46    00Xfn   False True False  False False False\n",
      "47    00Xiu   True False False  False False False\n",
      "48    00Zh6  False False False    True False True\n",
      "49    00all  False False False                NaN\n"
     ]
    }
   ],
   "source": [
    "DIFF_MERGED_GPT3 = MERGED_GPT3.loc[\n",
    "    MERGED_GPT3['GPT3_TEMP_0'] != MERGED_GPT3['GPT3_TEMP_1'],\n",
    "    ['puzzleId', 'GPT3_TEMP_0', 'GPT3_TEMP_1']\n",
    "]\n",
    "\n",
    "print(DIFF_MERGED_GPT3)\n",
    "print(\"---------------\")\n",
    "\n",
    "DIFF_MERGED_TEMP1 = MERGED_TEMP1.loc[\n",
    "    MERGED_TEMP1['GPT3_TEMP_1'] != MERGED_TEMP1['GPT4_TEMP_1'],\n",
    "    ['puzzleId', 'GPT3_TEMP_1', 'GPT4_TEMP_1']\n",
    "]\n",
    "\n",
    "print(DIFF_MERGED_TEMP1)\n"
   ]
  },
  {
   "cell_type": "code",
   "execution_count": null,
   "metadata": {},
   "outputs": [],
   "source": []
  }
 ],
 "metadata": {
  "kernelspec": {
   "display_name": "Python 3",
   "language": "python",
   "name": "python3"
  },
  "language_info": {
   "codemirror_mode": {
    "name": "ipython",
    "version": 3
   },
   "file_extension": ".py",
   "mimetype": "text/x-python",
   "name": "python",
   "nbconvert_exporter": "python",
   "pygments_lexer": "ipython3",
   "version": "3.10.6"
  },
  "orig_nbformat": 4
 },
 "nbformat": 4,
 "nbformat_minor": 2
}

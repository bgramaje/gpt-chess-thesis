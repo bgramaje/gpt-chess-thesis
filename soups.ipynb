{
 "cells": [
  {
   "cell_type": "code",
   "execution_count": 1,
   "metadata": {},
   "outputs": [
    {
     "name": "stdout",
     "output_type": "stream",
     "text": [
      "Requirement already satisfied: word-search-generator in /home/balbert/.local/lib/python3.8/site-packages (3.5.0)\n",
      "Requirement already satisfied: fpdf2==2.4.2 in /home/balbert/.local/lib/python3.8/site-packages (from word-search-generator) (2.4.2)\n",
      "Requirement already satisfied: typing-extensions==4.4.0 in /home/balbert/.local/lib/python3.8/site-packages (from word-search-generator) (4.4.0)\n",
      "Requirement already satisfied: Pillow in /home/balbert/.local/lib/python3.8/site-packages (from fpdf2==2.4.2->word-search-generator) (9.2.0)\n",
      "Note: you may need to restart the kernel to use updated packages.\n",
      "Requirement already satisfied: openai in /home/balbert/.local/lib/python3.8/site-packages (0.27.8)\n",
      "Requirement already satisfied: requests>=2.20 in /home/balbert/.local/lib/python3.8/site-packages (from openai) (2.28.1)\n",
      "Requirement already satisfied: tqdm in /home/balbert/.local/lib/python3.8/site-packages (from openai) (4.65.0)\n",
      "Requirement already satisfied: aiohttp in /home/balbert/.local/lib/python3.8/site-packages (from openai) (3.8.5)\n",
      "Requirement already satisfied: urllib3<1.27,>=1.21.1 in /home/balbert/.local/lib/python3.8/site-packages (from requests>=2.20->openai) (1.26.12)\n",
      "Requirement already satisfied: idna<4,>=2.5 in /usr/lib/python3/dist-packages (from requests>=2.20->openai) (2.8)\n",
      "Requirement already satisfied: charset-normalizer<3,>=2 in /home/balbert/.local/lib/python3.8/site-packages (from requests>=2.20->openai) (2.1.1)\n",
      "Requirement already satisfied: certifi>=2017.4.17 in /usr/lib/python3/dist-packages (from requests>=2.20->openai) (2019.11.28)\n",
      "Requirement already satisfied: attrs>=17.3.0 in /usr/lib/python3/dist-packages (from aiohttp->openai) (19.3.0)\n",
      "Requirement already satisfied: frozenlist>=1.1.1 in /home/balbert/.local/lib/python3.8/site-packages (from aiohttp->openai) (1.4.0)\n",
      "Requirement already satisfied: yarl<2.0,>=1.0 in /home/balbert/.local/lib/python3.8/site-packages (from aiohttp->openai) (1.9.2)\n",
      "Requirement already satisfied: multidict<7.0,>=4.5 in /home/balbert/.local/lib/python3.8/site-packages (from aiohttp->openai) (6.0.4)\n",
      "Requirement already satisfied: aiosignal>=1.1.2 in /home/balbert/.local/lib/python3.8/site-packages (from aiohttp->openai) (1.3.1)\n",
      "Requirement already satisfied: async-timeout<5.0,>=4.0.0a3 in /home/balbert/.local/lib/python3.8/site-packages (from aiohttp->openai) (4.0.2)\n",
      "Note: you may need to restart the kernel to use updated packages.\n",
      "Requirement already satisfied: random-word in /home/balbert/.local/lib/python3.8/site-packages (1.0.11)\n",
      "Requirement already satisfied: pyyaml in /usr/lib/python3/dist-packages (5.3.1)\n",
      "Requirement already satisfied: pytest in /home/balbert/.local/lib/python3.8/site-packages (from random-word) (7.4.0)\n",
      "Requirement already satisfied: requests in /home/balbert/.local/lib/python3.8/site-packages (from random-word) (2.28.1)\n",
      "Requirement already satisfied: exceptiongroup>=1.0.0rc8; python_version < \"3.11\" in /home/balbert/.local/lib/python3.8/site-packages (from pytest->random-word) (1.1.2)\n",
      "Requirement already satisfied: packaging in /home/balbert/.local/lib/python3.8/site-packages (from pytest->random-word) (21.3)\n",
      "Requirement already satisfied: pluggy<2.0,>=0.12 in /home/balbert/.local/lib/python3.8/site-packages (from pytest->random-word) (1.2.0)\n",
      "Requirement already satisfied: iniconfig in /home/balbert/.local/lib/python3.8/site-packages (from pytest->random-word) (2.0.0)\n",
      "Requirement already satisfied: tomli>=1.0.0; python_version < \"3.11\" in /home/balbert/.local/lib/python3.8/site-packages (from pytest->random-word) (2.0.1)\n",
      "Requirement already satisfied: idna<4,>=2.5 in /usr/lib/python3/dist-packages (from requests->random-word) (2.8)\n",
      "Requirement already satisfied: urllib3<1.27,>=1.21.1 in /home/balbert/.local/lib/python3.8/site-packages (from requests->random-word) (1.26.12)\n",
      "Requirement already satisfied: charset-normalizer<3,>=2 in /home/balbert/.local/lib/python3.8/site-packages (from requests->random-word) (2.1.1)\n",
      "Requirement already satisfied: certifi>=2017.4.17 in /usr/lib/python3/dist-packages (from requests->random-word) (2019.11.28)\n",
      "Requirement already satisfied: pyparsing!=3.0.5,>=2.0.2 in /home/balbert/.local/lib/python3.8/site-packages (from packaging->pytest->random-word) (3.0.9)\n",
      "Note: you may need to restart the kernel to use updated packages.\n",
      "Collecting nltk\n",
      "  Downloading nltk-3.8.1-py3-none-any.whl (1.5 MB)\n",
      "\u001b[K     |████████████████████████████████| 1.5 MB 2.7 MB/s eta 0:00:01\n",
      "\u001b[?25hRequirement already satisfied: joblib in /home/balbert/.local/lib/python3.8/site-packages (from nltk) (1.3.1)\n",
      "Requirement already satisfied: tqdm in /home/balbert/.local/lib/python3.8/site-packages (from nltk) (4.65.0)\n",
      "Collecting regex>=2021.8.3\n",
      "  Downloading regex-2023.6.3-cp38-cp38-manylinux_2_17_x86_64.manylinux2014_x86_64.whl (772 kB)\n",
      "\u001b[K     |████████████████████████████████| 772 kB 12.2 MB/s eta 0:00:01\n",
      "\u001b[?25hRequirement already satisfied: click in /home/balbert/.local/lib/python3.8/site-packages (from nltk) (8.1.3)\n",
      "Installing collected packages: regex, nltk\n",
      "Successfully installed nltk-3.8.1 regex-2023.6.3\n",
      "Note: you may need to restart the kernel to use updated packages.\n"
     ]
    }
   ],
   "source": [
    "%pip install word-search-generator\n",
    "%pip install openai\n",
    "%pip install random-word pyyaml\n",
    "%pip install nltk\n"
   ]
  },
  {
   "cell_type": "code",
   "execution_count": 35,
   "metadata": {},
   "outputs": [],
   "source": [
    "import openai\n",
    "import word_search_generator\n",
    "import random\n",
    "import nltk\n",
    "import numpy as np\n"
   ]
  },
  {
   "cell_type": "code",
   "execution_count": 108,
   "metadata": {},
   "outputs": [],
   "source": [
    "# global constant variables\n",
    "\n",
    "# output dir to save data files\n",
    "OUTPUT_DIR = \"./out\"\n",
    "# name of files to append to filename\n",
    "TEMPLATE_FILE_PATH = \"data\"\n",
    "# type of extension for data files\n",
    "EXTENSION_FILE = \"csv\"\n",
    "\n",
    "# error files dir path\n",
    "OUTPUT_ERROR_DIR = \"./out/error\"\n",
    "# name of error files to append to error filename\n",
    "TEMPLATE_ERROR_FILE_PATH = \"error\"\n",
    "\n",
    "# openai variables\n",
    "\n",
    "TEMPERATURE = 0\n",
    "# AVAILABLE MODELS [gpt-3.5-turbo-16k, gpt-4, gpt-4-0613]\n",
    "MODEL = 'gpt-3.5-turbo-16k'\n",
    "\n",
    "# config variables\n",
    "\n",
    "# increase time in case of error *`ServiceUnavailableError: The server is overloaded or not ready yet.`*\n",
    "REQ_INTERVAL = 5  # 10 sec\n",
    "VARIABILITY_TRIES = 3\n",
    "MAX_PUZZLES = 5\n",
    "\n",
    "# debug flag\n",
    "DEBUG = True\n"
   ]
  },
  {
   "cell_type": "code",
   "execution_count": 81,
   "metadata": {},
   "outputs": [],
   "source": [
    "def remove_last_line_from_string(s):\n",
    "    return [s[:s.rfind('\\n')], s[s.rfind('\\n'):]]\n",
    "    \n",
    "def formatBoard(string):\n",
    "    # Split the string into lines\n",
    "    lines = string.splitlines()\n",
    "\n",
    "    # Remove the first 3 lines using slicing\n",
    "    new_lines = lines[3:-3]\n",
    "    # Join the remaining lines into a new string\n",
    "    result = '\\n'.join(new_lines)\n",
    "\n",
    "    return result\n"
   ]
  },
  {
   "cell_type": "code",
   "execution_count": null,
   "metadata": {},
   "outputs": [],
   "source": []
  },
  {
   "cell_type": "code",
   "execution_count": 36,
   "metadata": {},
   "outputs": [],
   "source": [
    "openai.api_key = \"\"\n",
    "\n",
    "\n",
    "def request(\n",
    "    prompt=\"\",\n",
    "    context=np.array([]),\n",
    "):\n",
    "    \"\"\"\n",
    "    Helper function to make a request to openai api, and return it's response.\n",
    "    args:\n",
    "        prompt (string)\n",
    "        model (str)\n",
    "        temperature (int)\n",
    "    returns:\n",
    "        str\n",
    "    \"\"\"\n",
    "    context = np.append(\n",
    "        context,\n",
    "        np.array([{\n",
    "            \"role\": 'user',\n",
    "            \"content\": f\"\"\"\n",
    "                {prompt}\n",
    "            \"\"\",\n",
    "        }]), axis=0)\n",
    "\n",
    "    response = openai.ChatCompletion.create(\n",
    "        model=MODEL,\n",
    "        messages=context.tolist(),\n",
    "        temperature=TEMPERATURE,  # this is the degree of randomness of the model's output\n",
    "    )\n",
    "\n",
    "    return response.choices[0].message[\"content\"]"
   ]
  },
  {
   "cell_type": "code",
   "execution_count": 97,
   "metadata": {},
   "outputs": [],
   "source": [
    "context = np.array([])\n",
    "messages = np.array([\n",
    "    {\n",
    "        \"role\": \"system\",\n",
    "        \"content\": f\"\"\"      \n",
    "                You are a word searcher player playing word seach puzzles. \\\n",
    "                Your main task will be to find and return the coordinate in which \\\n",
    "                you fount the target word.\n",
    "                \n",
    "                Therefore, I will provide you with the target word to find. Also \\\n",
    "                the word search board will be given to you where the word is localted. \\\n",
    "                Words can go SW, N, S, NE, NW, SE, E, and W.\n",
    "                \n",
    "                \n",
    "                The prompt input structure will be something like this:\n",
    "                \n",
    "                ```\n",
    "                    \"target\": <word>\n",
    "                    \"board\" : <board>\n",
    "                ```\n",
    "                \n",
    "                Your task is to return the direction and position if in which the target \\\n",
    "                word was found. An example of the result could be HEDEOMA S @ (10, 1), where HEDEOMA is \n",
    "                the target word to find, the S stands for south and the (10, 1), means column 10,\n",
    "                row 1 of the word puzzle \\\n",
    "                \n",
    "                The JSON would be something like this:\n",
    "                \n",
    "                  ```\n",
    "                    \"word\": HEDEOMA\n",
    "                    \"direction\": S\n",
    "                    \"row\": 10\n",
    "                    \"column\": 1\n",
    "                ```\n",
    "\n",
    "                Take into account that for both row and column indices the first one is index 1, \\\n",
    "                the second one is index 2...\n",
    "                \n",
    "                Please do not provide any extra definition or information, just output \\\n",
    "                the result in a JSON Object with the following format:\n",
    "                \n",
    "                ```\n",
    "                    \"word\": <word>\n",
    "                    \"direction\": <direciton>\n",
    "                    \"row\": <row>\n",
    "                    \"column\": <column>\n",
    "                ```\n",
    "            \"\"\",\n",
    "    },\n",
    "])\n",
    "\n",
    "context = np.append(messages, context)"
   ]
  },
  {
   "cell_type": "code",
   "execution_count": 38,
   "metadata": {},
   "outputs": [
    {
     "name": "stderr",
     "output_type": "stream",
     "text": [
      "[nltk_data] Downloading package brown to /home/balbert/nltk_data...\n",
      "[nltk_data]   Package brown is already up-to-date!\n"
     ]
    },
    {
     "data": {
      "text/plain": [
       "True"
      ]
     },
     "execution_count": 38,
     "metadata": {},
     "output_type": "execute_result"
    }
   ],
   "source": [
    "from nltk.corpus import words\n",
    "nltk.download('brown')"
   ]
  },
  {
   "cell_type": "code",
   "execution_count": 105,
   "metadata": {},
   "outputs": [],
   "source": [
    "# generate random word\n",
    "word_list = words.words()  # get all English words\n",
    "word = random.choice(word_list)  # select a random word\n",
    "\n",
    "puzzle = word_search_generator.WordSearch(words=word)\n",
    "puzzle.level = 1\n",
    "# retrieve puzzle with no answer, and answer separated\n",
    "[puzzle, answer] = remove_last_line_from_string(str(puzzle))\n"
   ]
  },
  {
   "cell_type": "code",
   "execution_count": 109,
   "metadata": {},
   "outputs": [
    {
     "name": "stdout",
     "output_type": "stream",
     "text": [
      "{\"word\":\"wormless\",\"direction\":\"SE\",\"row\":7,\"column\":1}\n",
      "\n",
      "Answer Key: WORMLESS S @ (11, 4)\n"
     ]
    }
   ],
   "source": [
    "# generate prompt\n",
    "prompt = f\"\"\"\n",
    "    \"target\": {word}\n",
    "    \"board\": { formatBoard(puzzle)}\n",
    "\"\"\"\n",
    "\n",
    "req = request(prompt=prompt, context=context).replace(\" \", \"\")\n",
    "print(req)\n",
    "print(answer)"
   ]
  }
 ],
 "metadata": {
  "kernelspec": {
   "display_name": "Python 3",
   "language": "python",
   "name": "python3"
  },
  "language_info": {
   "codemirror_mode": {
    "name": "ipython",
    "version": 3
   },
   "file_extension": ".py",
   "mimetype": "text/x-python",
   "name": "python",
   "nbconvert_exporter": "python",
   "pygments_lexer": "ipython3",
   "version": "3.8.10"
  },
  "orig_nbformat": 4
 },
 "nbformat": 4,
 "nbformat_minor": 2
}

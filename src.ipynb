{
 "cells": [
  {
   "cell_type": "code",
   "execution_count": 1,
   "metadata": {},
   "outputs": [
    {
     "name": "stdout",
     "output_type": "stream",
     "text": [
      "Defaulting to user installation because normal site-packages is not writeable\n",
      "Requirement already satisfied: openai in /home/bgramaje/.local/lib/python3.10/site-packages (0.27.6)\n",
      "Requirement already satisfied: tqdm in /home/bgramaje/.local/lib/python3.10/site-packages (from openai) (4.65.0)\n",
      "Requirement already satisfied: requests>=2.20 in /home/bgramaje/.local/lib/python3.10/site-packages (from openai) (2.28.2)\n",
      "Requirement already satisfied: aiohttp in /home/bgramaje/.local/lib/python3.10/site-packages (from openai) (3.8.4)\n",
      "Requirement already satisfied: certifi>=2017.4.17 in /home/bgramaje/.local/lib/python3.10/site-packages (from requests>=2.20->openai) (2022.12.7)\n",
      "Requirement already satisfied: charset-normalizer<4,>=2 in /home/bgramaje/.local/lib/python3.10/site-packages (from requests>=2.20->openai) (3.1.0)\n",
      "Requirement already satisfied: idna<4,>=2.5 in /home/bgramaje/.local/lib/python3.10/site-packages (from requests>=2.20->openai) (3.4)\n",
      "Requirement already satisfied: urllib3<1.27,>=1.21.1 in /home/bgramaje/.local/lib/python3.10/site-packages (from requests>=2.20->openai) (1.26.14)\n",
      "Requirement already satisfied: yarl<2.0,>=1.0 in /home/bgramaje/.local/lib/python3.10/site-packages (from aiohttp->openai) (1.9.2)\n",
      "Requirement already satisfied: aiosignal>=1.1.2 in /home/bgramaje/.local/lib/python3.10/site-packages (from aiohttp->openai) (1.3.1)\n",
      "Requirement already satisfied: frozenlist>=1.1.1 in /home/bgramaje/.local/lib/python3.10/site-packages (from aiohttp->openai) (1.3.3)\n",
      "Requirement already satisfied: multidict<7.0,>=4.5 in /home/bgramaje/.local/lib/python3.10/site-packages (from aiohttp->openai) (6.0.4)\n",
      "Requirement already satisfied: async-timeout<5.0,>=4.0.0a3 in /home/bgramaje/.local/lib/python3.10/site-packages (from aiohttp->openai) (4.0.2)\n",
      "Requirement already satisfied: attrs>=17.3.0 in /home/bgramaje/.local/lib/python3.10/site-packages (from aiohttp->openai) (22.2.0)\n",
      "Note: you may need to restart the kernel to use updated packages.\n",
      "Defaulting to user installation because normal site-packages is not writeable\n",
      "Requirement already satisfied: chess in /home/bgramaje/.local/lib/python3.10/site-packages (1.9.4)\n",
      "Note: you may need to restart the kernel to use updated packages.\n",
      "Defaulting to user installation because normal site-packages is not writeable\n",
      "Requirement already satisfied: scikit-learn in /home/bgramaje/.local/lib/python3.10/site-packages (1.3.0)\n",
      "Requirement already satisfied: joblib>=1.1.1 in /home/bgramaje/.local/lib/python3.10/site-packages (from scikit-learn) (1.3.1)\n",
      "Requirement already satisfied: numpy>=1.17.3 in /home/bgramaje/.local/lib/python3.10/site-packages (from scikit-learn) (1.23.5)\n",
      "Requirement already satisfied: threadpoolctl>=2.0.0 in /home/bgramaje/.local/lib/python3.10/site-packages (from scikit-learn) (3.1.0)\n",
      "Requirement already satisfied: scipy>=1.5.0 in /home/bgramaje/.local/lib/python3.10/site-packages (from scikit-learn) (1.11.0)\n",
      "Note: you may need to restart the kernel to use updated packages.\n"
     ]
    }
   ],
   "source": [
    "%pip install openai\n",
    "%pip install chess\n",
    "%pip install scikit-learn\n"
   ]
  },
  {
   "cell_type": "code",
   "execution_count": 99,
   "metadata": {},
   "outputs": [],
   "source": [
    "# import required libraries\n",
    "import os\n",
    "import openai\n",
    "import json\n",
    "import numpy as np\n",
    "import pandas as pd\n",
    "import chess\n",
    "import copy\n",
    "import time\n",
    "\n",
    "from ast import literal_eval\n",
    "from dotenv import load_dotenv, find_dotenv\n",
    "from sklearn.model_selection import train_test_split\n"
   ]
  },
  {
   "cell_type": "code",
   "execution_count": 3,
   "metadata": {},
   "outputs": [],
   "source": [
    "# import environment variable into notebook\n",
    "_ = load_dotenv(find_dotenv())  # read local .env file\n",
    "openai.api_key = os.getenv('OPENAI_API_KEY_UPV')\n"
   ]
  },
  {
   "cell_type": "code",
   "execution_count": 4,
   "metadata": {},
   "outputs": [
    {
     "name": "stdout",
     "output_type": "stream",
     "text": [
      "['whisper-1', 'babbage', 'text-davinci-003', 'davinci', 'text-davinci-edit-001', 'babbage-code-search-code', 'text-similarity-babbage-001', 'code-davinci-edit-001', 'text-davinci-001', 'ada', 'babbage-code-search-text', 'babbage-similarity', 'gpt-3.5-turbo-16k-0613', 'code-search-babbage-text-001', 'text-curie-001', 'gpt-3.5-turbo-0301', 'gpt-3.5-turbo-16k', 'code-search-babbage-code-001', 'text-ada-001', 'text-similarity-ada-001', 'curie-instruct-beta', 'ada-code-search-code', 'ada-similarity', 'code-search-ada-text-001', 'text-search-ada-query-001', 'davinci-search-document', 'ada-code-search-text', 'text-search-ada-doc-001', 'davinci-instruct-beta', 'text-similarity-curie-001', 'code-search-ada-code-001', 'ada-search-query', 'text-search-davinci-query-001', 'curie-search-query', 'gpt-3.5-turbo', 'davinci-search-query', 'babbage-search-document', 'ada-search-document', 'text-search-curie-query-001', 'text-search-babbage-doc-001', 'curie-search-document', 'gpt-3.5-turbo-0613', 'text-search-curie-doc-001', 'babbage-search-query', 'text-babbage-001', 'text-search-davinci-doc-001', 'text-search-babbage-query-001', 'curie-similarity', 'curie', 'text-embedding-ada-002', 'text-similarity-davinci-001', 'text-davinci-002', 'davinci-similarity']\n"
     ]
    }
   ],
   "source": [
    "# list openai available models.\n",
    "ids = [item[\"id\"] for item in (openai.Model.list())['data']]\n",
    "print(ids)\n"
   ]
  },
  {
   "cell_type": "code",
   "execution_count": 5,
   "metadata": {},
   "outputs": [],
   "source": [
    "def request(\n",
    "    prompt=\"\",\n",
    "    model=\"gpt-3.5-turbo-16k\",\n",
    "    temperature=0,\n",
    "    context=np.array([])\n",
    "):\n",
    "    \"\"\"\n",
    "    Helper function to make a request to openai api, and return it's response.\n",
    "    args:\n",
    "        prompt (string)\n",
    "        model (str)\n",
    "        temperature (int)\n",
    "    returns:\n",
    "        str\n",
    "    \"\"\"\n",
    "    context = np.append(\n",
    "        context,\n",
    "        np.array([{\n",
    "            \"role\": 'user',\n",
    "            \"content\": f\"\"\"\n",
    "                {prompt}\n",
    "            \"\"\",\n",
    "        }]), axis=0)\n",
    "\n",
    "    response = openai.ChatCompletion.create(\n",
    "        model=model,\n",
    "        messages=context.tolist(),\n",
    "        temperature=temperature,  # this is the degree of randomness of the model's output\n",
    "    )\n",
    "\n",
    "    return response.choices[0].message[\"content\"]\n"
   ]
  },
  {
   "cell_type": "code",
   "execution_count": 6,
   "metadata": {},
   "outputs": [],
   "source": [
    "# create dataframe from downloaded dataset\n",
    "df = pd.read_csv('data/db_puzzle.csv')\n",
    "# create dataframe of one move chess puzzles\n",
    "df_one = df[df['Themes'].str.contains('mateIn1')].reset_index(drop=True)\n"
   ]
  },
  {
   "cell_type": "code",
   "execution_count": 7,
   "metadata": {},
   "outputs": [
    {
     "name": "stdout",
     "output_type": "stream",
     "text": [
      "29\n"
     ]
    }
   ],
   "source": [
    "train_df_one, test_df_one = train_test_split(\n",
    "    df_one, test_size=0.9999, random_state=42)\n",
    "\n",
    "train_df_one = train_df_one.reset_index(drop=True)\n",
    "test_df_one = test_df_one.reset_index(drop=True)\n",
    "\n",
    "print(len(train_df_one))\n"
   ]
  },
  {
   "cell_type": "code",
   "execution_count": 87,
   "metadata": {},
   "outputs": [],
   "source": [
    "def push_move(board: chess.Board, move: chess.Move):\n",
    "    \"\"\" \n",
    "    args:\n",
    "        board (chess.Board)\n",
    "        moves (chess.Move)\n",
    "    \"\"\"\n",
    "    if board.is_legal(move):\n",
    "        board.push(move)\n",
    "    return board\n",
    "\n",
    "\n",
    "def is_legal_move(board: chess.Board, move: chess.Move) -> bool:\n",
    "    \"\"\" \n",
    "    Function that given a fen an a move checks\n",
    "    if the provided move is legal\n",
    "    args:\n",
    "        board (chess.Board)\n",
    "        moves (str)\n",
    "    returns:\n",
    "        bool  \n",
    "    \"\"\"\n",
    "    return board.is_legal(move)\n"
   ]
  },
  {
   "cell_type": "code",
   "execution_count": 136,
   "metadata": {},
   "outputs": [],
   "source": [
    "def process_test_row(row, context):\n",
    "    # create chess board with 'fen' dataset\n",
    "    board = chess.Board(row['FEN'])\n",
    "    # create chess moves from 'uci' moves from dataset\n",
    "    chess_moves = [chess.Move.from_uci(move) for move in row['Moves'].split()]\n",
    "    # retrieve last move\n",
    "    chess_moves.pop()\n",
    "    \n",
    "    # add all moves except the last one.\n",
    "    for move in chess_moves:\n",
    "        push_move(board=board, move=move)\n",
    "        \n",
    "    # generate prompt\n",
    "    prompt = f\"\"\"\n",
    "        \"fen\": {board.fen()}\n",
    "        \"valid_moves\": { json.dumps([move.uci() for move in list(board.legal_moves)])}\n",
    "    \"\"\"\n",
    "\n",
    "    # req to gpt model\n",
    "    req = request(prompt=prompt, context=context)\n",
    "    res = literal_eval(req)\n",
    "    \n",
    "    # check if valid gpt res move\n",
    "    valid_res = is_legal_move(board=board, move=chess.Move.from_uci(res['move']))\n",
    "\n",
    "    # info printings\n",
    "    # print(f\"[------{row['PuzzleId']}------]\")\n",
    "    # print(f\"[gpt-move | dataset-move] : {res['move']} | {last_move}\")\n",
    "\n",
    "    if (valid_res is not True):\n",
    "        print(f\"[valid-move] : {valid_res}\")\n",
    "        return\n",
    "\n",
    "    board_gpt = push_move(board=copy.deepcopy(board), move=chess.Move.from_uci(res['move']))\n",
    "    print(f\"[{row['PuzzleId']}][gpt-completed]: { board_gpt.is_checkmate()}\")\n"
   ]
  },
  {
   "cell_type": "code",
   "execution_count": 45,
   "metadata": {},
   "outputs": [],
   "source": [
    "def process_training_row(row):\n",
    "    board = chess.Board(row['FEN'])\n",
    "    move = chess.Move.from_uci(row['Moves'].split()[0])\n",
    "    board.push(move)\n",
    "\n",
    "    valid_moves = list(board.legal_moves)\n",
    "\n",
    "    return np.array([\n",
    "        {\n",
    "            \"role\": \"user\",\n",
    "            \"content\": json.dumps({\n",
    "                \"fen\": board.fen(),\n",
    "                \"valid_moves\": [move.uci() for move in valid_moves]\n",
    "            })\n",
    "        }, {\n",
    "            \"role\": \"assistant\",\n",
    "            \"content\": json.dumps({\n",
    "                \"move\": row['Moves'].split()[1]\n",
    "            })\n",
    "        }\n",
    "    ])\n"
   ]
  },
  {
   "cell_type": "code",
   "execution_count": 124,
   "metadata": {},
   "outputs": [],
   "source": [
    "context = np.array([])\n",
    "\n",
    "# for index, row in train_df_one.iterrows():\n",
    "#     context = np.append(context, process_training_row(row))\n",
    "\n",
    "messages = np.array([\n",
    "    {\n",
    "        \"role\": \"system\",\n",
    "        \"content\": f\"\"\"      \n",
    "                You are a chess engine playing that solves chess puzzles. \\\n",
    "                Your main task will be to solve chess puzzles.\n",
    "                \n",
    "                Therefore, I will provide you with board position in \\\n",
    "                'FEN (Forsyth–Edwards Notation)' format. Also all the \\\n",
    "                legal moves available for that FEN board in UCI (Universal \\\n",
    "                Chess Interface) format.\n",
    "                \n",
    "                The prompt input structure will be something like this:\n",
    "                \n",
    "                ```\n",
    "                    \"fen\": <fen>\n",
    "                    \"valid_moves\" : <valid_moves>\n",
    "                ```\n",
    "                \n",
    "                Your task is to choose one of the moves from the legal \\\n",
    "                moves list provided in the prompt that produces a mate \\ \n",
    "                in one to the provided FEN\n",
    "                                \n",
    "                Please do not provide any extra definition or information, just output \\\n",
    "                the movement in a JSON Object with the following format:\n",
    "                \n",
    "                ```\n",
    "                    \"move\": <your_move>\n",
    "                ```\n",
    "            \"\"\",\n",
    "    },\n",
    "])\n",
    "\n",
    "context = np.append(messages, context)\n"
   ]
  },
  {
   "cell_type": "code",
   "execution_count": 37,
   "metadata": {},
   "outputs": [],
   "source": [
    "checkmate_df = pd.DataFrame(columns=test_df_one.columns)\n",
    "\n",
    "for index, row in test_df_one.head(1000).iterrows():\n",
    "    board = chess.Board(row['FEN'])\n",
    "    chess_moves = [chess.Move.from_uci(move) for move in row['Moves'].split()]\n",
    "\n",
    "    for move in chess_moves:\n",
    "        if (move in board.legal_moves):\n",
    "            push_move(board=board, move=move)\n",
    "\n",
    "    if (board.is_checkmate()):\n",
    "        checkmate_df = pd.concat([checkmate_df, row.to_frame().T])\n",
    "    else:\n",
    "        print(row['PuzzleId'])\n"
   ]
  },
  {
   "cell_type": "code",
   "execution_count": 137,
   "metadata": {},
   "outputs": [
    {
     "name": "stdout",
     "output_type": "stream",
     "text": [
      "[jsGhG][gpt-completed]: True\n",
      "[6Hlem][gpt-completed]: True\n",
      "[U3gT1][gpt-completed]: False\n",
      "[MkUOG][gpt-completed]: False\n",
      "[kaXL5][gpt-completed]: False\n",
      "[m71OP][gpt-completed]: False\n",
      "[oQtjY][gpt-completed]: False\n",
      "[ad0Un][gpt-completed]: False\n",
      "[kmzKl][gpt-completed]: True\n",
      "[unMJm][gpt-completed]: False\n",
      "[dnwzp][gpt-completed]: False\n",
      "[LisXP][gpt-completed]: False\n",
      "[zVQX8][gpt-completed]: False\n",
      "[ZEVIc][gpt-completed]: False\n",
      "[nCARu][gpt-completed]: False\n",
      "[MOwON][gpt-completed]: False\n",
      "[d20aq][gpt-completed]: False\n",
      "[VSqRq][gpt-completed]: False\n",
      "[R0XGC][gpt-completed]: False\n",
      "[NY31d][gpt-completed]: False\n",
      "[aZZLS][gpt-completed]: False\n",
      "[gjNcB][gpt-completed]: True\n",
      "[6qmZO][gpt-completed]: False\n",
      "[RMOT4][gpt-completed]: False\n",
      "[aZBX5][gpt-completed]: False\n",
      "[R1vr6][gpt-completed]: True\n",
      "[c3Ukn][gpt-completed]: False\n",
      "[X6XsH][gpt-completed]: False\n",
      "[i8heJ][gpt-completed]: False\n",
      "[qTndJ][gpt-completed]: False\n",
      "[TmDQR][gpt-completed]: False\n",
      "[nVMmL][gpt-completed]: False\n",
      "[gXGqw][gpt-completed]: False\n",
      "[voEu7][gpt-completed]: True\n",
      "[VU2Zi][gpt-completed]: True\n",
      "[csZKL][gpt-completed]: True\n",
      "[53oSp][gpt-completed]: False\n",
      "[ANG6C][gpt-completed]: True\n",
      "[valid-move] : False\n",
      "[InegQ][gpt-completed]: False\n",
      "[yTb2E][gpt-completed]: False\n",
      "[dYwX2][gpt-completed]: False\n",
      "[sEYpq][gpt-completed]: True\n"
     ]
    },
    {
     "ename": "ServiceUnavailableError",
     "evalue": "The server is overloaded or not ready yet.",
     "output_type": "error",
     "traceback": [
      "\u001b[0;31m---------------------------------------------------------------------------\u001b[0m",
      "\u001b[0;31mServiceUnavailableError\u001b[0m                   Traceback (most recent call last)",
      "Cell \u001b[0;32mIn[137], line 2\u001b[0m\n\u001b[1;32m      1\u001b[0m \u001b[39mfor\u001b[39;00m index, row \u001b[39min\u001b[39;00m checkmate_df\u001b[39m.\u001b[39miterrows():\n\u001b[0;32m----> 2\u001b[0m     process_test_row(row, context)\n\u001b[1;32m      3\u001b[0m     \u001b[39mif\u001b[39;00m (index \u001b[39m==\u001b[39m \u001b[39m100\u001b[39m):\n\u001b[1;32m      4\u001b[0m         \u001b[39mbreak\u001b[39;00m\n",
      "Cell \u001b[0;32mIn[136], line 20\u001b[0m, in \u001b[0;36mprocess_test_row\u001b[0;34m(row, context)\u001b[0m\n\u001b[1;32m     14\u001b[0m prompt \u001b[39m=\u001b[39m \u001b[39mf\u001b[39m\u001b[39m\"\"\"\u001b[39m\n\u001b[1;32m     15\u001b[0m \u001b[39m    \u001b[39m\u001b[39m\"\u001b[39m\u001b[39mfen\u001b[39m\u001b[39m\"\u001b[39m\u001b[39m: \u001b[39m\u001b[39m{\u001b[39;00mboard\u001b[39m.\u001b[39mfen()\u001b[39m}\u001b[39;00m\n\u001b[1;32m     16\u001b[0m \u001b[39m    \u001b[39m\u001b[39m\"\u001b[39m\u001b[39mvalid_moves\u001b[39m\u001b[39m\"\u001b[39m\u001b[39m: \u001b[39m\u001b[39m{\u001b[39;00m\u001b[39m \u001b[39mjson\u001b[39m.\u001b[39mdumps([move\u001b[39m.\u001b[39muci()\u001b[39m \u001b[39m\u001b[39mfor\u001b[39;00m\u001b[39m \u001b[39mmove\u001b[39m \u001b[39m\u001b[39min\u001b[39;00m\u001b[39m \u001b[39m\u001b[39mlist\u001b[39m(board\u001b[39m.\u001b[39mlegal_moves)])\u001b[39m}\u001b[39;00m\n\u001b[1;32m     17\u001b[0m \u001b[39m\u001b[39m\u001b[39m\"\"\"\u001b[39m\n\u001b[1;32m     19\u001b[0m \u001b[39m# req to gpt model\u001b[39;00m\n\u001b[0;32m---> 20\u001b[0m req \u001b[39m=\u001b[39m request(prompt\u001b[39m=\u001b[39;49mprompt, context\u001b[39m=\u001b[39;49mcontext)\n\u001b[1;32m     21\u001b[0m res \u001b[39m=\u001b[39m literal_eval(req)\n\u001b[1;32m     23\u001b[0m \u001b[39m# check if valid gpt res move\u001b[39;00m\n",
      "Cell \u001b[0;32mIn[5], line 25\u001b[0m, in \u001b[0;36mrequest\u001b[0;34m(prompt, model, temperature, context)\u001b[0m\n\u001b[1;32m      7\u001b[0m \u001b[39m\u001b[39m\u001b[39m\"\"\"\u001b[39;00m\n\u001b[1;32m      8\u001b[0m \u001b[39mHelper function to make a request to openai api, and return it's response.\u001b[39;00m\n\u001b[1;32m      9\u001b[0m \u001b[39margs:\u001b[39;00m\n\u001b[0;32m   (...)\u001b[0m\n\u001b[1;32m     14\u001b[0m \u001b[39m    str\u001b[39;00m\n\u001b[1;32m     15\u001b[0m \u001b[39m\"\"\"\u001b[39;00m\n\u001b[1;32m     16\u001b[0m context \u001b[39m=\u001b[39m np\u001b[39m.\u001b[39mappend(\n\u001b[1;32m     17\u001b[0m     context,\n\u001b[1;32m     18\u001b[0m     np\u001b[39m.\u001b[39marray([{\n\u001b[0;32m   (...)\u001b[0m\n\u001b[1;32m     22\u001b[0m \u001b[39m        \u001b[39m\u001b[39m\"\"\"\u001b[39m,\n\u001b[1;32m     23\u001b[0m     }]), axis\u001b[39m=\u001b[39m\u001b[39m0\u001b[39m)\n\u001b[0;32m---> 25\u001b[0m response \u001b[39m=\u001b[39m openai\u001b[39m.\u001b[39;49mChatCompletion\u001b[39m.\u001b[39;49mcreate(\n\u001b[1;32m     26\u001b[0m     model\u001b[39m=\u001b[39;49mmodel,\n\u001b[1;32m     27\u001b[0m     messages\u001b[39m=\u001b[39;49mcontext\u001b[39m.\u001b[39;49mtolist(),\n\u001b[1;32m     28\u001b[0m     temperature\u001b[39m=\u001b[39;49mtemperature,  \u001b[39m# this is the degree of randomness of the model's output\u001b[39;49;00m\n\u001b[1;32m     29\u001b[0m )\n\u001b[1;32m     31\u001b[0m \u001b[39mreturn\u001b[39;00m response\u001b[39m.\u001b[39mchoices[\u001b[39m0\u001b[39m]\u001b[39m.\u001b[39mmessage[\u001b[39m\"\u001b[39m\u001b[39mcontent\u001b[39m\u001b[39m\"\u001b[39m]\n",
      "File \u001b[0;32m~/.local/lib/python3.10/site-packages/openai/api_resources/chat_completion.py:25\u001b[0m, in \u001b[0;36mChatCompletion.create\u001b[0;34m(cls, *args, **kwargs)\u001b[0m\n\u001b[1;32m     23\u001b[0m \u001b[39mwhile\u001b[39;00m \u001b[39mTrue\u001b[39;00m:\n\u001b[1;32m     24\u001b[0m     \u001b[39mtry\u001b[39;00m:\n\u001b[0;32m---> 25\u001b[0m         \u001b[39mreturn\u001b[39;00m \u001b[39msuper\u001b[39;49m()\u001b[39m.\u001b[39;49mcreate(\u001b[39m*\u001b[39;49margs, \u001b[39m*\u001b[39;49m\u001b[39m*\u001b[39;49mkwargs)\n\u001b[1;32m     26\u001b[0m     \u001b[39mexcept\u001b[39;00m TryAgain \u001b[39mas\u001b[39;00m e:\n\u001b[1;32m     27\u001b[0m         \u001b[39mif\u001b[39;00m timeout \u001b[39mis\u001b[39;00m \u001b[39mnot\u001b[39;00m \u001b[39mNone\u001b[39;00m \u001b[39mand\u001b[39;00m time\u001b[39m.\u001b[39mtime() \u001b[39m>\u001b[39m start \u001b[39m+\u001b[39m timeout:\n",
      "File \u001b[0;32m~/.local/lib/python3.10/site-packages/openai/api_resources/abstract/engine_api_resource.py:153\u001b[0m, in \u001b[0;36mEngineAPIResource.create\u001b[0;34m(cls, api_key, api_base, api_type, request_id, api_version, organization, **params)\u001b[0m\n\u001b[1;32m    127\u001b[0m \u001b[39m@classmethod\u001b[39m\n\u001b[1;32m    128\u001b[0m \u001b[39mdef\u001b[39;00m \u001b[39mcreate\u001b[39m(\n\u001b[1;32m    129\u001b[0m     \u001b[39mcls\u001b[39m,\n\u001b[0;32m   (...)\u001b[0m\n\u001b[1;32m    136\u001b[0m     \u001b[39m*\u001b[39m\u001b[39m*\u001b[39mparams,\n\u001b[1;32m    137\u001b[0m ):\n\u001b[1;32m    138\u001b[0m     (\n\u001b[1;32m    139\u001b[0m         deployment_id,\n\u001b[1;32m    140\u001b[0m         engine,\n\u001b[0;32m   (...)\u001b[0m\n\u001b[1;32m    150\u001b[0m         api_key, api_base, api_type, api_version, organization, \u001b[39m*\u001b[39m\u001b[39m*\u001b[39mparams\n\u001b[1;32m    151\u001b[0m     )\n\u001b[0;32m--> 153\u001b[0m     response, _, api_key \u001b[39m=\u001b[39m requestor\u001b[39m.\u001b[39;49mrequest(\n\u001b[1;32m    154\u001b[0m         \u001b[39m\"\u001b[39;49m\u001b[39mpost\u001b[39;49m\u001b[39m\"\u001b[39;49m,\n\u001b[1;32m    155\u001b[0m         url,\n\u001b[1;32m    156\u001b[0m         params\u001b[39m=\u001b[39;49mparams,\n\u001b[1;32m    157\u001b[0m         headers\u001b[39m=\u001b[39;49mheaders,\n\u001b[1;32m    158\u001b[0m         stream\u001b[39m=\u001b[39;49mstream,\n\u001b[1;32m    159\u001b[0m         request_id\u001b[39m=\u001b[39;49mrequest_id,\n\u001b[1;32m    160\u001b[0m         request_timeout\u001b[39m=\u001b[39;49mrequest_timeout,\n\u001b[1;32m    161\u001b[0m     )\n\u001b[1;32m    163\u001b[0m     \u001b[39mif\u001b[39;00m stream:\n\u001b[1;32m    164\u001b[0m         \u001b[39m# must be an iterator\u001b[39;00m\n\u001b[1;32m    165\u001b[0m         \u001b[39massert\u001b[39;00m \u001b[39mnot\u001b[39;00m \u001b[39misinstance\u001b[39m(response, OpenAIResponse)\n",
      "File \u001b[0;32m~/.local/lib/python3.10/site-packages/openai/api_requestor.py:230\u001b[0m, in \u001b[0;36mAPIRequestor.request\u001b[0;34m(self, method, url, params, headers, files, stream, request_id, request_timeout)\u001b[0m\n\u001b[1;32m    209\u001b[0m \u001b[39mdef\u001b[39;00m \u001b[39mrequest\u001b[39m(\n\u001b[1;32m    210\u001b[0m     \u001b[39mself\u001b[39m,\n\u001b[1;32m    211\u001b[0m     method,\n\u001b[0;32m   (...)\u001b[0m\n\u001b[1;32m    218\u001b[0m     request_timeout: Optional[Union[\u001b[39mfloat\u001b[39m, Tuple[\u001b[39mfloat\u001b[39m, \u001b[39mfloat\u001b[39m]]] \u001b[39m=\u001b[39m \u001b[39mNone\u001b[39;00m,\n\u001b[1;32m    219\u001b[0m ) \u001b[39m-\u001b[39m\u001b[39m>\u001b[39m Tuple[Union[OpenAIResponse, Iterator[OpenAIResponse]], \u001b[39mbool\u001b[39m, \u001b[39mstr\u001b[39m]:\n\u001b[1;32m    220\u001b[0m     result \u001b[39m=\u001b[39m \u001b[39mself\u001b[39m\u001b[39m.\u001b[39mrequest_raw(\n\u001b[1;32m    221\u001b[0m         method\u001b[39m.\u001b[39mlower(),\n\u001b[1;32m    222\u001b[0m         url,\n\u001b[0;32m   (...)\u001b[0m\n\u001b[1;32m    228\u001b[0m         request_timeout\u001b[39m=\u001b[39mrequest_timeout,\n\u001b[1;32m    229\u001b[0m     )\n\u001b[0;32m--> 230\u001b[0m     resp, got_stream \u001b[39m=\u001b[39m \u001b[39mself\u001b[39;49m\u001b[39m.\u001b[39;49m_interpret_response(result, stream)\n\u001b[1;32m    231\u001b[0m     \u001b[39mreturn\u001b[39;00m resp, got_stream, \u001b[39mself\u001b[39m\u001b[39m.\u001b[39mapi_key\n",
      "File \u001b[0;32m~/.local/lib/python3.10/site-packages/openai/api_requestor.py:624\u001b[0m, in \u001b[0;36mAPIRequestor._interpret_response\u001b[0;34m(self, result, stream)\u001b[0m\n\u001b[1;32m    616\u001b[0m     \u001b[39mreturn\u001b[39;00m (\n\u001b[1;32m    617\u001b[0m         \u001b[39mself\u001b[39m\u001b[39m.\u001b[39m_interpret_response_line(\n\u001b[1;32m    618\u001b[0m             line, result\u001b[39m.\u001b[39mstatus_code, result\u001b[39m.\u001b[39mheaders, stream\u001b[39m=\u001b[39m\u001b[39mTrue\u001b[39;00m\n\u001b[1;32m    619\u001b[0m         )\n\u001b[1;32m    620\u001b[0m         \u001b[39mfor\u001b[39;00m line \u001b[39min\u001b[39;00m parse_stream(result\u001b[39m.\u001b[39miter_lines())\n\u001b[1;32m    621\u001b[0m     ), \u001b[39mTrue\u001b[39;00m\n\u001b[1;32m    622\u001b[0m \u001b[39melse\u001b[39;00m:\n\u001b[1;32m    623\u001b[0m     \u001b[39mreturn\u001b[39;00m (\n\u001b[0;32m--> 624\u001b[0m         \u001b[39mself\u001b[39;49m\u001b[39m.\u001b[39;49m_interpret_response_line(\n\u001b[1;32m    625\u001b[0m             result\u001b[39m.\u001b[39;49mcontent\u001b[39m.\u001b[39;49mdecode(\u001b[39m\"\u001b[39;49m\u001b[39mutf-8\u001b[39;49m\u001b[39m\"\u001b[39;49m),\n\u001b[1;32m    626\u001b[0m             result\u001b[39m.\u001b[39;49mstatus_code,\n\u001b[1;32m    627\u001b[0m             result\u001b[39m.\u001b[39;49mheaders,\n\u001b[1;32m    628\u001b[0m             stream\u001b[39m=\u001b[39;49m\u001b[39mFalse\u001b[39;49;00m,\n\u001b[1;32m    629\u001b[0m         ),\n\u001b[1;32m    630\u001b[0m         \u001b[39mFalse\u001b[39;00m,\n\u001b[1;32m    631\u001b[0m     )\n",
      "File \u001b[0;32m~/.local/lib/python3.10/site-packages/openai/api_requestor.py:667\u001b[0m, in \u001b[0;36mAPIRequestor._interpret_response_line\u001b[0;34m(self, rbody, rcode, rheaders, stream)\u001b[0m\n\u001b[1;32m    664\u001b[0m     \u001b[39mreturn\u001b[39;00m OpenAIResponse(\u001b[39mNone\u001b[39;00m, rheaders)\n\u001b[1;32m    666\u001b[0m \u001b[39mif\u001b[39;00m rcode \u001b[39m==\u001b[39m \u001b[39m503\u001b[39m:\n\u001b[0;32m--> 667\u001b[0m     \u001b[39mraise\u001b[39;00m error\u001b[39m.\u001b[39mServiceUnavailableError(\n\u001b[1;32m    668\u001b[0m         \u001b[39m\"\u001b[39m\u001b[39mThe server is overloaded or not ready yet.\u001b[39m\u001b[39m\"\u001b[39m,\n\u001b[1;32m    669\u001b[0m         rbody,\n\u001b[1;32m    670\u001b[0m         rcode,\n\u001b[1;32m    671\u001b[0m         headers\u001b[39m=\u001b[39mrheaders,\n\u001b[1;32m    672\u001b[0m     )\n\u001b[1;32m    673\u001b[0m \u001b[39mtry\u001b[39;00m:\n\u001b[1;32m    674\u001b[0m     \u001b[39mif\u001b[39;00m \u001b[39m'\u001b[39m\u001b[39mtext/plain\u001b[39m\u001b[39m'\u001b[39m \u001b[39min\u001b[39;00m rheaders\u001b[39m.\u001b[39mget(\u001b[39m'\u001b[39m\u001b[39mContent-Type\u001b[39m\u001b[39m'\u001b[39m, \u001b[39m'\u001b[39m\u001b[39m'\u001b[39m):\n",
      "\u001b[0;31mServiceUnavailableError\u001b[0m: The server is overloaded or not ready yet."
     ]
    }
   ],
   "source": [
    "for index, row in checkmate_df.iterrows():\n",
    "    process_test_row(row, context)\n",
    "    if (index == 100):\n",
    "        break\n",
    "    time.sleep(0.5)\n"
   ]
  }
 ],
 "metadata": {
  "kernelspec": {
   "display_name": "Python 3",
   "language": "python",
   "name": "python3"
  },
  "language_info": {
   "codemirror_mode": {
    "name": "ipython",
    "version": 3
   },
   "file_extension": ".py",
   "mimetype": "text/x-python",
   "name": "python",
   "nbconvert_exporter": "python",
   "pygments_lexer": "ipython3",
   "version": "3.10.6"
  },
  "orig_nbformat": 4
 },
 "nbformat": 4,
 "nbformat_minor": 2
}
